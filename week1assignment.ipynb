{
 "cells": [
  {
   "cell_type": "code",
   "execution_count": 2,
   "metadata": {
    "colab": {},
    "colab_type": "code",
    "id": "F-6bE0dYcBgA"
   },
   "outputs": [],
   "source": [
    "## Import stuff\n",
    " \n",
    "import numpy as np\n",
    "from sklearn import datasets, linear_model, metrics"
   ]
  },
  {
   "cell_type": "code",
   "execution_count": 3,
   "metadata": {
    "colab": {},
    "colab_type": "code",
    "id": "gK71NIhMcEs5"
   },
   "outputs": [],
   "source": [
    "## Load the diabetes dataset\n",
    "diabetes = datasets.load_diabetes()\n",
    "diabetes_X = diabetes.data # matrix of dimensions 442x10\n",
    " \n",
    "# Split the data into training/testing sets\n",
    "diabetes_X_train = diabetes_X[:-20]\n",
    "diabetes_X_test = diabetes_X[-20:]\n",
    " \n",
    "# Split the targets into training/testing sets\n",
    "diabetes_y_train = diabetes.target[:-20]\n",
    "diabetes_y_test = diabetes.target[-20:]"
   ]
  },
  {
   "cell_type": "code",
   "execution_count": 19,
   "metadata": {
    "colab": {},
    "colab_type": "code",
    "id": "XJTg22ybcHsl"
   },
   "outputs": [
    {
     "name": "stdout",
     "output_type": "stream",
     "text": [
      "Epoch 0: 14734.323460\n",
      "Epoch 5000: 13116.696255\n",
      "Epoch 10000: 13114.369151\n",
      "Epoch 15000: 13114.000031\n",
      "Epoch 20000: 13113.684578\n",
      "Epoch 25000: 13113.390564\n",
      "Epoch 30000: 13113.115069\n",
      "Epoch 35000: 13112.856394\n",
      "Epoch 40000: 13112.613207\n",
      "Epoch 45000: 13112.384401\n",
      "Epoch 50000: 13112.169017\n",
      "Epoch 55000: 13111.966207\n",
      "Epoch 60000: 13111.775199\n",
      "Epoch 65000: 13111.595284\n",
      "Epoch 70000: 13111.425806\n",
      "Epoch 75000: 13111.266151\n",
      "Epoch 80000: 13111.115745\n",
      "Epoch 85000: 13110.974050\n",
      "Epoch 90000: 13110.840560\n",
      "Epoch 95000: 13110.714799\n"
     ]
    }
   ],
   "source": [
    "# train\n",
    "X = diabetes_X_train\n",
    "y = diabetes_y_train\n",
    "\n",
    " \n",
    "# train: init\n",
    "W =np.zeros(np.size(X,1))\n",
    "b=1\n",
    "m=np.size(X,0)\n",
    "learning_rate = 0.3\n",
    "epochs = 100000\n",
    "\n",
    "# train: gradient descent\n",
    "for i in range(epochs):\n",
    "   \n",
    "    # calculate predictions\n",
    "    ...\n",
    "    predictions=np.dot(X,W)\n",
    "    \n",
    "\n",
    " \n",
    "    # calculate error and cost (mean squared error)\n",
    "    mean_squared_error=0.5*np.sum(np.square(predictions-y))/m\n",
    " \n",
    "    # calculate gradients\n",
    "    gradients=learning_rate*(X.T.dot((predictions-y)))/m\n",
    "    ...\n",
    " \n",
    "    # update parameters\n",
    "    ...\n",
    "    W=W-gradients\n",
    " \n",
    "    # diagnostic output\n",
    "    if i % 5000 == 0: \n",
    "        print(\"Epoch %d: %f\" % (i, mean_squared_error))"
   ]
  },
  {
   "cell_type": "code",
   "execution_count": 20,
   "metadata": {
    "colab": {},
    "colab_type": "code",
    "id": "uvSdTn-0cKJL"
   },
   "outputs": [
    {
     "name": "stdout",
     "output_type": "stream",
     "text": [
      "Coefficients: \n",
      " [  44.51140313 -260.48848859  551.65963472  351.26464709 -321.59928921\n",
      "   38.06653452 -150.74023238  155.43177267  554.06262166   13.17557062]\n",
      "Mean squared error: 523.78\n",
      "========================================================================================================================\n"
     ]
    }
   ],
   "source": [
    "# test\n",
    "X = diabetes_X_test\n",
    "y = diabetes_y_test\n",
    " \n",
    "# calculate predictions + calculate error and cost (same code as above)\n",
    "...\n",
    "predictions=np.dot(X,W)\n",
    "mean_squared_error=0.5*np.sum(np.square(predictions-y))/m\n",
    "print('Coefficients: \\n', W)\n",
    "print(\"Mean squared error: %.2f\" % mean_squared_error)\n",
    "print(\"=\"*120)"
   ]
  },
  {
   "cell_type": "code",
   "execution_count": null,
   "metadata": {},
   "outputs": [],
   "source": []
  }
 ],
 "metadata": {
  "colab": {
   "name": "week1assignment.ipynb",
   "provenance": []
  },
  "kernelspec": {
   "display_name": "Python 3",
   "language": "python",
   "name": "python3"
  },
  "language_info": {
   "codemirror_mode": {
    "name": "ipython",
    "version": 3
   },
   "file_extension": ".py",
   "mimetype": "text/x-python",
   "name": "python",
   "nbconvert_exporter": "python",
   "pygments_lexer": "ipython3",
   "version": "3.7.6"
  }
 },
 "nbformat": 4,
 "nbformat_minor": 1
}
