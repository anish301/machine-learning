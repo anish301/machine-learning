{
 "cells": [
  {
   "cell_type": "code",
   "execution_count": 2,
   "metadata": {
    "colab": {},
    "colab_type": "code",
    "id": "F-6bE0dYcBgA"
   },
   "outputs": [],
   "source": [
    "## Import stuff\n",
    " \n",
    "import numpy as np\n",
    "from sklearn import datasets, linear_model, metrics"
   ]
  },
  {
   "cell_type": "code",
   "execution_count": 3,
   "metadata": {
    "colab": {},
    "colab_type": "code",
    "id": "gK71NIhMcEs5"
   },
   "outputs": [],
   "source": [
    "## Load the diabetes dataset\n",
    "diabetes = datasets.load_diabetes()\n",
    "diabetes_X = diabetes.data # matrix of dimensions 442x10\n",
    " \n",
    "# Split the data into training/testing sets\n",
    "diabetes_X_train = diabetes_X[:-20]\n",
    "diabetes_X_test = diabetes_X[-20:]\n",
    " \n",
    "# Split the targets into training/testing sets\n",
    "diabetes_y_train = diabetes.target[:-20]\n",
    "diabetes_y_test = diabetes.target[-20:]\n"
   ]
  },
  {
   "cell_type": "code",
   "execution_count": 22,
   "metadata": {
    "colab": {},
    "colab_type": "code",
    "id": "XJTg22ybcHsl"
   },
   "outputs": [
    {
     "name": "stdout",
     "output_type": "stream",
     "text": [
      "Epoch 0: 14581.460900\n",
      "Epoch 5000: 1524.099781\n",
      "Epoch 10000: 1470.706991\n",
      "Epoch 15000: 1463.728653\n",
      "Epoch 20000: 1462.376138\n",
      "Epoch 25000: 1461.897450\n",
      "Epoch 30000: 1461.597616\n",
      "Epoch 35000: 1461.347012\n",
      "Epoch 40000: 1461.115462\n",
      "Epoch 45000: 1460.894565\n",
      "Epoch 50000: 1460.681518\n",
      "Epoch 55000: 1460.475129\n",
      "Epoch 60000: 1460.274727\n",
      "Epoch 65000: 1460.079838\n",
      "Epoch 70000: 1459.890087\n",
      "Epoch 75000: 1459.705158\n",
      "Epoch 80000: 1459.524779\n",
      "Epoch 85000: 1459.348712\n",
      "Epoch 90000: 1459.176749\n",
      "Epoch 95000: 1459.008706\n"
     ]
    }
   ],
   "source": [
    "# train\n",
    "X = diabetes_X_train\n",
    "y = diabetes_y_train\n",
    "\n",
    " \n",
    "# train: init\n",
    "W =np.zeros(np.size(X,1))\n",
    "b=1\n",
    "m=np.size(X,0)\n",
    "learning_rate = 0.1\n",
    "epochs = 100000\n",
    "\n",
    "# train: gradient descent\n",
    "for i in range(epochs):\n",
    "   \n",
    "    # calculate predictions\n",
    "    ...\n",
    "    predictions=np.dot(X,W)+b\n",
    "    \n",
    "\n",
    " \n",
    "    # calculate error and cost (mean squared error)\n",
    "    mean_squared_error=0.5*np.sum(np.square(predictions-y))/m\n",
    " \n",
    "    # calculate gradients\n",
    "    gradients=learning_rate*(X.T.dot((predictions-y)))/m\n",
    "    b=b-learning_rate*(np.sum(predictions-y))/m\n",
    "    ...\n",
    " \n",
    "    # update parameters\n",
    "    ...\n",
    "    W=W-gradients\n",
    " \n",
    "    # diagnostic output\n",
    "    if i % 5000 == 0: \n",
    "        print(\"Epoch %d: %f\" % (i, mean_squared_error))"
   ]
  },
  {
   "cell_type": "code",
   "execution_count": 24,
   "metadata": {
    "colab": {},
    "colab_type": "code",
    "id": "uvSdTn-0cKJL"
   },
   "outputs": [
    {
     "name": "stdout",
     "output_type": "stream",
     "text": [
      "[233.  91. 111. 152. 120.  67. 310.  94. 183.  66. 173.  72.  49.  64.\n",
      "  48. 178. 104. 132. 220.  57.]\n",
      "[198.01337169 150.63869729 169.40630727 108.26738245 162.77539004\n",
      " 132.31769092 260.65164645 100.65935639 115.11964629 121.48772892\n",
      " 218.64912968  60.79740583 135.46631723 121.31605652  53.84681386\n",
      " 192.83341297 103.81445304 126.11377701 208.97094412  45.94984282]\n",
      "Coefficients: \n",
      " [   3.66162059 -234.66428422  519.39480666  325.58121791 -176.09743375\n",
      "  -16.44088918 -180.07233254  108.04605683  502.78372277   78.97034214]\n",
      "Mean squared error: 47.24\n",
      "========================================================================================================================\n"
     ]
    }
   ],
   "source": [
    "# test\n",
    "X = diabetes_X_test\n",
    "y = diabetes_y_test\n",
    "print(y)\n",
    "# calculate predictions + calculate error and cost (same code as above)\n",
    "...\n",
    "predictions=np.dot(X,W)+b\n",
    "print(predictions)\n",
    "mean_squared_error=0.5*np.sum(np.square(predictions-y))/m\n",
    "print('Coefficients: \\n', W)\n",
    "print(\"Mean squared error: %.2f\" % mean_squared_error)\n",
    "print(\"=\"*120)"
   ]
  },
  {
   "cell_type": "code",
   "execution_count": null,
   "metadata": {},
   "outputs": [],
   "source": []
  }
 ],
 "metadata": {
  "colab": {
   "name": "week1assignment.ipynb",
   "provenance": []
  },
  "kernelspec": {
   "display_name": "Python 3",
   "language": "python",
   "name": "python3"
  },
  "language_info": {
   "codemirror_mode": {
    "name": "ipython",
    "version": 3
   },
   "file_extension": ".py",
   "mimetype": "text/x-python",
   "name": "python",
   "nbconvert_exporter": "python",
   "pygments_lexer": "ipython3",
   "version": "3.7.6"
  }
 },
 "nbformat": 4,
 "nbformat_minor": 1
}
